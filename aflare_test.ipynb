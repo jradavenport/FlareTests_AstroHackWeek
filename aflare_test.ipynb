{
 "metadata": {
  "name": "",
  "signature": "sha256:3ad5b3b0728c7899a9aefb032932c053831e29e5cd23dc1d95025bbd7885c742"
 },
 "nbformat": 3,
 "nbformat_minor": 0,
 "worksheets": [
  {
   "cells": [
    {
     "cell_type": "markdown",
     "metadata": {},
     "source": [
      "#Testing the analytic flare equations in Python\n"
     ]
    },
    {
     "cell_type": "code",
     "collapsed": false,
     "input": [
      "%matplotlib inline\n",
      "import matplotlib.pyplot as plt\n",
      "import numpy as np\n",
      "\n",
      "from __future__ import print_function"
     ],
     "language": "python",
     "metadata": {},
     "outputs": [],
     "prompt_number": 1
    },
    {
     "cell_type": "code",
     "collapsed": false,
     "input": [
      "# Define the single flare model\n",
      "def aflare(t, p=[0.0, 1.0, 1.0]):\n",
      "    # p must contain 3 numbers: (t0, fwhm, peak)\n",
      "\n",
      "    # coefficients defined in paper (Davenport 2014)\n",
      "    fr = np.array([1.0, 1.94053, -0.175084, -2.24588, -1.12498])\n",
      "    fd = np.array([0.689008, -1.60053, 0.302963, -0.278318])\n",
      "    model = np.piecewise(t,[((t-p[0])/p[1] >= -1) & (t<=p[0]),(t>p[0])] , \n",
      "                         [lambda z: \n",
      "                          fr[1]*(((z-p[0])/p[1])) + fr[0] +\n",
      "                          fr[2]*(((z-p[0])/p[1]) **2) + \n",
      "                          fr[3]*(((z-p[0])/p[1]) **3) + \n",
      "                          fr[4]*(((z-p[0])/p[1]) **4) , \n",
      "                          lambda z:\n",
      "                          fd[0] * np.exp((z-p[0])/p[1] * fd[1]) + \n",
      "                          fd[2] * np.exp((z-p[0])/p[1] * fd[3])\n",
      "                          ]\n",
      "                         ) * p[2]\n",
      "    return model\n",
      "\n",
      "# Define the multi-flare model\n",
      "def nflare(t, p):\n",
      "    model = np.zeros_like(t, dtype='float')\n",
      "    \n",
      "    Nmodel = np.floor(np.size(p)/3.0)\n",
      "    for i in range(int(Nmodel)):\n",
      "        model += aflare(t, p[i*3:i*3+3])\n",
      "    return model"
     ],
     "language": "python",
     "metadata": {},
     "outputs": [],
     "prompt_number": 2
    },
    {
     "cell_type": "code",
     "collapsed": false,
     "input": [
      "t = np.linspace(-3,10,2000)\n",
      "p1=([2,1,2.5])\n",
      "p2=([2,1,2.5, 0.5,0.5,0.5, 3, .6, .8])\n",
      "\n",
      "# can call a single flare either of these ways:\n",
      "plt.plot(t, aflare(t,p1))\n",
      "plt.plot(t, nflare(t, p1)-1)\n",
      "\n",
      "# and multi-peak flares like this:\n",
      "plt.plot(t, nflare(t,p2)-2)\n"
     ],
     "language": "python",
     "metadata": {},
     "outputs": [
      {
       "metadata": {},
       "output_type": "pyout",
       "prompt_number": 9,
       "text": [
        "[<matplotlib.lines.Line2D at 0x10684d310>]"
       ]
      },
      {
       "metadata": {},
       "output_type": "display_data",
       "png": "[encoded data removed]",
       "text": [
        "<matplotlib.figure.Figure at 0x105fd6ad0>"
       ]
      }
     ],
     "prompt_number": 9
    },
    {
     "cell_type": "code",
     "collapsed": false,
     "input": [],
     "language": "python",
     "metadata": {},
     "outputs": [],
     "prompt_number": 4
    }
   ],
   "metadata": {}
  }
 ]
}